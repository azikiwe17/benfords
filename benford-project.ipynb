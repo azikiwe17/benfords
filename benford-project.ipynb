{
 "cells": [
  {
   "cell_type": "markdown",
   "metadata": {},
   "source": [
    "(view at http://nbviewer.jupyter.org/github/azikiwe17/benfords/blob/master/Untitled1.ipynb)\n",
    "# Benfords Law\n",
    "\n"
   ]
  },
  {
   "cell_type": "markdown",
   "metadata": {},
   "source": [
    "### Brief Explanation"
   ]
  },
  {
   "cell_type": "code",
   "execution_count": 3,
   "metadata": {},
   "outputs": [
    {
     "data": {
      "image/png": "[encoded data removed]",
      "text/plain": [
       "<matplotlib.figure.Figure at 0x4a9a763048>"
      ]
     },
     "metadata": {},
     "output_type": "display_data"
    }
   ],
   "source": [
    "%matplotlib inline\n",
    "\n",
    "import matplotlib\n",
    "import numpy as np\n",
    "import matplotlib.pyplot as plt\n",
    "\n",
    "plt.bar([1,2,3,4,5,6,7,8,9], [.301,.176,.125,.097,.079,.067,.058,.051,.046])\n",
    "plt.axis([1, 9, 0, 1]) # [ x labels 1st, last, y labels 1st, last ]\n",
    "plt.ylabel('Occurance')\n",
    "plt.xlabel('Leading Digit')\n",
    "plt.show()"
   ]
  },
  {
   "cell_type": "markdown",
   "metadata": {},
   "source": [
    "### Discussion of Proof\n",
    "\n",
    "Probability (D=d) = log(1+(1/d)); d= (1,2, 3…9), where D is the random variable describing the first non-zero digit of a given number.\n",
    "\n",
    ">It wasn’t until 1995 that Hill, a mathematician, provided a proof\n",
    ">for Benford’s law as well as demonstrating how it applied to stock market data, census sta-\n",
    ">tistics, and certain accounting data. He noted that Benford’s distribution, like\n",
    ">the normal distribution, is an empirically observable phenomenon. Hill’s proof relies on the\n",
    ">fact that the numbers in sets that conform to the Benford distribution are second generation\n",
    ">distributions, that is, combinations of other distributions.\n",
    "\n",
    "[The Effective Use of Benford’s Law to Assist in\n",
    "Detecting Fraud in Accounting Data, Durtschi, Hillison and Pacini](http://faculty.usfsp.edu/gkearns/Articles_Fraud/Benford%20Analysis%20Article.pdf)"
   ]
  },
  {
   "cell_type": "markdown",
   "metadata": {},
   "source": [
    "## Our Implementation\n",
    "![alternate text](python-logo.png)\n",
    "![alternate text](logo2.png)\n",
    "![alternate text](jupyter.png)\n",
    "![alternate text](logo-developer-github.png)"
   ]
  },
  {
   "cell_type": "markdown",
   "metadata": {},
   "source": [
    "### Defining the distribution\n",
    "pop_freq = {} <br>\n",
    "pop_freq['1'] = 0 <br>\n",
    "pop_freq['2'] = 0<br>\n",
    "pop_freq['3'] = 0<br>\n",
    "pop_freq['4'] = 0<br>\n",
    "pop_freq['5'] = 0<br>\n",
    "pop_freq['6'] = 0<br>\n",
    "pop_freq['7'] = 0<br>\n",
    "pop_freq['8'] = 0\n",
    "pop_freq['9'] = 0"
   ]
  },
  {
   "cell_type": "markdown",
   "metadata": {},
   "source": [
    "### Loading the data file<font>\n",
    "#2 Open file for reading <br>\n",
    "infile = open(\"Census_2009.txt\", 'r')<br>\n",
    "\n",
    "#Read header<br>\n",
    "header = infile.readline()<br>\n",
    "</font>\n"
   ]
  },
  {
   "cell_type": "markdown",
   "metadata": {},
   "source": [
    "### Start counter to decide how many there are total\n",
    "counter = 0\n",
    "\n",
    "#Read subsequent lines\n",
    "for line in infile:\n",
    "    #Increment counter\n",
    "    counter += 1\n",
    "    line = line.strip()\n",
    "    pop_data = line.split()\n",
    "    pop_num = pop_data[-1]\n",
    "    #Add to each respective number's frequency\n",
    "    if pop_num[0] == '1':\n",
    "        pop_freq['1'] += 1\n",
    "    elif pop_num[0] == '2':\n",
    "        pop_freq['2'] += 1\n",
    "    elif pop_num[0] == '3':\n",
    "        pop_freq['3'] += 1\n",
    "    elif pop_num[0] == '4':\n",
    "        pop_freq['4'] += 1\n",
    "    elif pop_num[0] == '5':\n",
    "        pop_freq['5'] += 1\n",
    "    elif pop_num[0] == '6':\n",
    "        pop_freq['6'] += 1\n",
    "    elif pop_num[0] == '7':\n",
    "        pop_freq['7'] += 1\n",
    "    elif pop_num[0] == '8':\n",
    "        pop_freq['8'] += 1\n",
    "    elif pop_num[0] == '9':\n",
    "        pop_freq['9'] += 1"
   ]
  },
  {
   "cell_type": "markdown",
   "metadata": {},
   "source": [
    "### Placing Frequencies Into String    \n",
    "    #4 Print header\n",
    "    print (\"Digit\\tCount\\t%\")\n",
    "    census = []\n",
    "    for i in range(1,10):\n",
    "        print (\"%d\\t%d\\t%.1f\" % (i, pop_freq[str(i)], 100*(pop_freq[str(i)])/counter))\n",
    "        census.append(100*(pop_freq[str(i)])/counter)\n",
    "\n",
    "\n",
    "    infile.close()"
   ]
  },
  {
   "cell_type": "markdown",
   "metadata": {},
   "source": [
    "### Plotting Frequencies (using MatPlotLib)\n",
    "    %matplotlib inline\n",
    "\n",
    "    import matplotlib\n",
    "    import numpy as np\n",
    "    import matplotlib.pyplot as plt\n",
    "\n",
    "    plt.bar([1,2,3,4,5,6,7,8,9], census) # strings of x info, y info\n",
    "    plt.axis([1, 9, 0, 100]) # [ x labels 1st, last, y labels 1st, last ]\n",
    "    plt.ylabel('Occurance')\n",
    "    plt.xlabel('Leading Digit')\n",
    "    plt.show()"
   ]
  },
  {
   "cell_type": "markdown",
   "metadata": {},
   "source": [
    "# Analyzing United States Population By County"
   ]
  },
  {
   "cell_type": "code",
   "execution_count": 2,
   "metadata": {},
   "outputs": [
    {
     "name": "stdout",
     "output_type": "stream",
     "text": [
      "Digit\tCount\t%\n",
      "1\t5738\t29.4\n",
      "2\t3540\t18.1\n",
      "3\t2342\t12.0\n",
      "4\t1847\t9.5\n",
      "5\t1559\t8.0\n",
      "6\t1370\t7.0\n",
      "7\t1166\t6.0\n",
      "8\t1043\t5.3\n",
      "9\t904\t4.6\n"
     ]
    },
    {
     "data": {
      "image/png": "[encoded data removed]",
      "text/plain": [
       "<matplotlib.figure.Figure at 0x4a9a763240>"
      ]
     },
     "metadata": {},
     "output_type": "display_data"
    }
   ],
   "source": [
    "#1 Create an empty dictionary\n",
    "pop_freq = {}\n",
    "\n",
    "# Initialize the dictionary\n",
    "pop_freq['1'] = 0\n",
    "pop_freq['2'] = 0\n",
    "pop_freq['3'] = 0\n",
    "pop_freq['4'] = 0\n",
    "pop_freq['5'] = 0\n",
    "pop_freq['6'] = 0\n",
    "pop_freq['7'] = 0\n",
    "pop_freq['8'] = 0\n",
    "pop_freq['9'] = 0\n",
    "\n",
    "#2 Open file for reading\n",
    "infile = open(\"Census_2009.txt\", 'r')\n",
    "\n",
    "# Read header\n",
    "header = infile.readline()\n",
    "\n",
    "# Start counter to decide how many there are total\n",
    "counter = 0\n",
    "\n",
    "# Read subsequent lines\n",
    "for line in infile:\n",
    "    # Increment counter\n",
    "    counter += 1\n",
    "    line = line.strip()\n",
    "    pop_data = line.split()\n",
    "    pop_num = pop_data[-1]\n",
    "    # Add to each respective number's frequency\n",
    "    if pop_num[0] == '1':\n",
    "        pop_freq['1'] += 1\n",
    "    elif pop_num[0] == '2':\n",
    "        pop_freq['2'] += 1\n",
    "    elif pop_num[0] == '3':\n",
    "        pop_freq['3'] += 1\n",
    "    elif pop_num[0] == '4':\n",
    "        pop_freq['4'] += 1\n",
    "    elif pop_num[0] == '5':\n",
    "        pop_freq['5'] += 1\n",
    "    elif pop_num[0] == '6':\n",
    "        pop_freq['6'] += 1\n",
    "    elif pop_num[0] == '7':\n",
    "        pop_freq['7'] += 1\n",
    "    elif pop_num[0] == '8':\n",
    "        pop_freq['8'] += 1\n",
    "    elif pop_num[0] == '9':\n",
    "        pop_freq['9'] += 1\n",
    "# Print header\n",
    "print (\"Digit\\tCount\\t%\")\n",
    "census = []\n",
    "for i in range(1,10):\n",
    "    print (\"%d\\t%d\\t%.1f\" % (i, pop_freq[str(i)], 100*(pop_freq[str(i)])/counter))\n",
    "    census.append(100*(pop_freq[str(i)])/counter)\n",
    "    \n",
    "\n",
    "infile.close()\n",
    "\n",
    "%matplotlib inline\n",
    "\n",
    "import matplotlib\n",
    "import numpy as np\n",
    "import matplotlib.pyplot as plt\n",
    "\n",
    "plt.bar([1,2,3,4,5,6,7,8,9], census) # in groups of 3, they are strings of x info, y info, plot type (ex 'bs' means blue square)\n",
    "plt.axis([1, 9, 0, 100]) # [ x labels 1st, last, y labels 1st, last ]\n",
    "plt.ylabel('Occurance')\n",
    "plt.xlabel('Leading Digit')\n",
    "plt.show()"
   ]
  },
  {
   "cell_type": "markdown",
   "metadata": {},
   "source": [
    "# Analyzing Missouri City, TX Population By Census Tract"
   ]
  },
  {
   "cell_type": "markdown",
   "metadata": {},
   "source": []
  },
  {
   "cell_type": "code",
   "execution_count": 6,
   "metadata": {},
   "outputs": [
    {
     "name": "stdout",
     "output_type": "stream",
     "text": [
      "Digit\tCount\t%\n",
      "1\t12\t24.0\n",
      "2\t6\t12.0\n",
      "3\t7\t14.0\n",
      "4\t4\t8.0\n",
      "5\t8\t16.0\n",
      "6\t2\t4.0\n",
      "7\t2\t4.0\n",
      "8\t1\t2.0\n",
      "9\t0\t0.0\n"
     ]
    },
    {
     "data": {
      "image/png": "[encoded data removed]",
      "text/plain": [
       "<matplotlib.figure.Figure at 0xb15f390>"
      ]
     },
     "metadata": {},
     "output_type": "display_data"
    }
   ],
   "source": [
    "#1 Create an empty dictionary\n",
    "pop_freq = {}\n",
    "\n",
    "# Initialize the dictionary\n",
    "pop_freq['1'] = 0\n",
    "pop_freq['2'] = 0\n",
    "pop_freq['3'] = 0\n",
    "pop_freq['4'] = 0\n",
    "pop_freq['5'] = 0\n",
    "pop_freq['6'] = 0\n",
    "pop_freq['7'] = 0\n",
    "pop_freq['8'] = 0\n",
    "pop_freq['9'] = 0\n",
    "\n",
    "#2 Open file for reading\n",
    "infile = open(\"missouri.txt\", 'r')\n",
    "\n",
    "# Read header\n",
    "header = infile.readline()\n",
    "\n",
    "# Start counter to decide how many there are total\n",
    "counter = 0\n",
    "\n",
    "# Read subsequent lines\n",
    "for line in infile:\n",
    "    # Increment counter\n",
    "    counter += 1\n",
    "    line = line.strip()\n",
    "    pop_data = line.split()\n",
    "    pop_num = pop_data[-1]\n",
    "    # Add to each respective number's frequency\n",
    "    if pop_num[0] == '1':\n",
    "        pop_freq['1'] += 1\n",
    "    elif pop_num[0] == '2':\n",
    "        pop_freq['2'] += 1\n",
    "    elif pop_num[0] == '3':\n",
    "        pop_freq['3'] += 1\n",
    "    elif pop_num[0] == '4':\n",
    "        pop_freq['4'] += 1\n",
    "    elif pop_num[0] == '5':\n",
    "        pop_freq['5'] += 1\n",
    "    elif pop_num[0] == '6':\n",
    "        pop_freq['6'] += 1\n",
    "    elif pop_num[0] == '7':\n",
    "        pop_freq['7'] += 1\n",
    "    elif pop_num[0] == '8':\n",
    "        pop_freq['8'] += 1\n",
    "    elif pop_num[0] == '9':\n",
    "        pop_freq['9'] += 1\n",
    "# Print header\n",
    "print (\"Digit\\tCount\\t%\")\n",
    "census = []\n",
    "for i in range(1,10):\n",
    "    print (\"%d\\t%d\\t%.1f\" % (i, pop_freq[str(i)], 100*(pop_freq[str(i)])/counter))\n",
    "    census.append(100*(pop_freq[str(i)])/counter)\n",
    "    \n",
    "\n",
    "infile.close()\n",
    "\n",
    "%matplotlib inline\n",
    "\n",
    "import matplotlib\n",
    "import numpy as np\n",
    "import matplotlib.pyplot as plt\n",
    "\n",
    "plt.bar([1,2,3,4,5,6,7,8,9], census) # in groups of 3, they are strings of x info, y info, plot type (ex 'bs' means blue square)\n",
    "plt.axis([1, 9, 0, 100]) # [ x labels 1st, last, y labels 1st, last ]\n",
    "plt.ylabel('Occurance')\n",
    "plt.xlabel('Leading Digit')\n",
    "plt.show()"
   ]
  },
  {
   "cell_type": "markdown",
   "metadata": {},
   "source": [
    "![alternate text](chi.jpg)\n",
    "![alternate text](z-score.png)"
   ]
  },
  {
   "cell_type": "markdown",
   "metadata": {},
   "source": [
    "# Breaking Benford's\n",
    "* Insufficient Sample Size\n",
    "\n",
    "ex. Clearly a sample size of 1 can't fit a distribution curve, and similarly a sample of 20 could be thrown off 10% by two numbers, which may not fit the trend\n",
    "\n",
    "* Small Span of Numbers\n",
    "\n",
    "ex. birth years of probability classmates. Will under represent the 3-9 digits\n",
    "Census data on towns begining with population 5000. Will under represent the 1-4 digits\n",
    "\n",
    "* non-mixed distributions\n",
    "\n",
    "ex. results of rolling a 10 sided die 1000 times\n",
    "\n",
    "* human‐assigned numbers\n",
    "\n",
    "ex. Prices at the 7-11 might tend towards $0.99 for marketing reasons."
   ]
  },
  {
   "cell_type": "code",
   "execution_count": null,
   "metadata": {
    "collapsed": true
   },
   "outputs": [],
   "source": []
  }
 ],
 "metadata": {
  "kernelspec": {
   "display_name": "Python 2",
   "language": "python",
   "name": "python2"
  },
  "language_info": {
   "codemirror_mode": {
    "name": "ipython",
    "version": 2
   },
   "file_extension": ".py",
   "mimetype": "text/x-python",
   "name": "python",
   "nbconvert_exporter": "python",
   "pygments_lexer": "ipython2",
   "version": "2.7.14"
  }
 },
 "nbformat": 4,
 "nbformat_minor": 2
}
