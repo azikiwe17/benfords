{
 "cells": [
  {
   "cell_type": "markdown",
   "metadata": {},
   "source": [
    "\n",
    "pop_freq = {}\n",
    "pop_freq['1'] = 0\n",
    "pop_freq['2'] = 0\n",
    "pop_freq['3'] = 0\n",
    "pop_freq['4'] = 0\n",
    "pop_freq['5'] = 0\n",
    "pop_freq['6'] = 0\n",
    "pop_freq['7'] = 0\n",
    "pop_freq['8'] = 0\n",
    "pop_freq['9'] = 0"
   ]
  },
  {
   "cell_type": "markdown",
   "metadata": {},
   "source": [
    "<font color=red>\n",
    "This creates a "
   ]
  },
  {
   "cell_type": "markdown",
   "metadata": {},
   "source": [
    "<font color=blue>\n",
    "#2 Open file for reading <br>\n",
    "infile = open(\"Census_2009.txt\", 'r')<br>\n",
    "\n",
    "# Read header<br>\n",
    "header = infile.readline()<br>\n",
    "</font>\n"
   ]
  },
  {
   "cell_type": "markdown",
   "metadata": {},
   "source": [
    "#3 Start counter to decide how many there are total\n",
    "counter = 0\n",
    "\n",
    "# Read subsequent lines\n",
    "for line in infile:\n",
    "    # Increment counter\n",
    "    counter += 1\n",
    "    line = line.strip()\n",
    "    pop_data = line.split()\n",
    "    pop_num = pop_data[-1]\n",
    "    # Add to each respective number's frequency\n",
    "    if pop_num[0] == '1':\n",
    "        pop_freq['1'] += 1\n",
    "    elif pop_num[0] == '2':\n",
    "        pop_freq['2'] += 1\n",
    "    elif pop_num[0] == '3':\n",
    "        pop_freq['3'] += 1\n",
    "    elif pop_num[0] == '4':\n",
    "        pop_freq['4'] += 1\n",
    "    elif pop_num[0] == '5':\n",
    "        pop_freq['5'] += 1\n",
    "    elif pop_num[0] == '6':\n",
    "        pop_freq['6'] += 1\n",
    "    elif pop_num[0] == '7':\n",
    "        pop_freq['7'] += 1\n",
    "    elif pop_num[0] == '8':\n",
    "        pop_freq['8'] += 1\n",
    "    elif pop_num[0] == '9':\n",
    "        pop_freq['9'] += 1"
   ]
  },
  {
   "cell_type": "markdown",
   "metadata": {},
   "source": [
    "#4 Print header\n",
    "print (\"Digit\\tCount\\t%\")\n",
    "census = []\n",
    "for i in range(1,10):\n",
    "    print (\"%d\\t%d\\t%.1f\" % (i, pop_freq[str(i)], 100*(pop_freq[str(i)])/counter))\n",
    "    census.append(100*(pop_freq[str(i)])/counter)\n",
    "    \n",
    "\n",
    "infile.close()"
   ]
  },
  {
   "cell_type": "markdown",
   "metadata": {},
   "source": [
    "%matplotlib inline\n",
    "\n",
    "import matplotlib\n",
    "import numpy as np\n",
    "import matplotlib.pyplot as plt\n",
    "\n",
    "plt.plot([1,2,3,4,5,6,7,8,9], census, 'ro') # in groups of 3, they are strings of x info, y info, plot type (ex 'bs' means blue square)\n",
    "plt.axis([1, 9, 0, 100]) # [ x labels 1st, last, y labels 1st, last ]\n",
    "plt.ylabel('Occurance')\n",
    "plt.xlabel('Leading Digit')\n",
    "plt.show()"
   ]
  },
  {
   "cell_type": "code",
   "execution_count": 5,
   "metadata": {},
   "outputs": [
    {
     "name": "stdout",
     "output_type": "stream",
     "text": [
      "Digit\tCount\t%\n",
      "1\t5738\t29.0\n",
      "2\t3540\t18.0\n",
      "3\t2342\t12.0\n",
      "4\t1847\t9.0\n",
      "5\t1559\t7.0\n",
      "6\t1370\t7.0\n",
      "7\t1166\t5.0\n",
      "8\t1043\t5.0\n",
      "9\t904\t4.0\n"
     ]
    },
    {
     "data": {
      "image/png": "[encoded data removed]",
      "text/plain": [
       "<matplotlib.figure.Figure at 0xaf7d630>"
      ]
     },
     "metadata": {},
     "output_type": "display_data"
    }
   ],
   "source": [
    "#1 Create an empty dictionary\n",
    "pop_freq = {}\n",
    "\n",
    "# Initialize the dictionary\n",
    "pop_freq['1'] = 0\n",
    "pop_freq['2'] = 0\n",
    "pop_freq['3'] = 0\n",
    "pop_freq['4'] = 0\n",
    "pop_freq['5'] = 0\n",
    "pop_freq['6'] = 0\n",
    "pop_freq['7'] = 0\n",
    "pop_freq['8'] = 0\n",
    "pop_freq['9'] = 0\n",
    "\n",
    "#2 Open file for reading\n",
    "infile = open(\"Census_2009.txt\", 'r')\n",
    "\n",
    "# Read header\n",
    "header = infile.readline()\n",
    "\n",
    "# Start counter to decide how many there are total\n",
    "counter = 0\n",
    "\n",
    "# Read subsequent lines\n",
    "for line in infile:\n",
    "    # Increment counter\n",
    "    counter += 1\n",
    "    line = line.strip()\n",
    "    pop_data = line.split()\n",
    "    pop_num = pop_data[-1]\n",
    "    # Add to each respective number's frequency\n",
    "    if pop_num[0] == '1':\n",
    "        pop_freq['1'] += 1\n",
    "    elif pop_num[0] == '2':\n",
    "        pop_freq['2'] += 1\n",
    "    elif pop_num[0] == '3':\n",
    "        pop_freq['3'] += 1\n",
    "    elif pop_num[0] == '4':\n",
    "        pop_freq['4'] += 1\n",
    "    elif pop_num[0] == '5':\n",
    "        pop_freq['5'] += 1\n",
    "    elif pop_num[0] == '6':\n",
    "        pop_freq['6'] += 1\n",
    "    elif pop_num[0] == '7':\n",
    "        pop_freq['7'] += 1\n",
    "    elif pop_num[0] == '8':\n",
    "        pop_freq['8'] += 1\n",
    "    elif pop_num[0] == '9':\n",
    "        pop_freq['9'] += 1\n",
    "# Print header\n",
    "print (\"Digit\\tCount\\t%\")\n",
    "census = []\n",
    "for i in range(1,10):\n",
    "    print (\"%d\\t%d\\t%.1f\" % (i, pop_freq[str(i)], 100*(pop_freq[str(i)])/counter))\n",
    "    census.append(100*(pop_freq[str(i)])/counter)\n",
    "    \n",
    "\n",
    "infile.close()\n",
    "\n",
    "%matplotlib inline\n",
    "\n",
    "import matplotlib\n",
    "import numpy as np\n",
    "import matplotlib.pyplot as plt\n",
    "\n",
    "plt.bar([1,2,3,4,5,6,7,8,9], census) # in groups of 3, they are strings of x info, y info, plot type (ex 'bs' means blue square)\n",
    "plt.axis([1, 9, 0, 100]) # [ x labels 1st, last, y labels 1st, last ]\n",
    "plt.ylabel('Occurance')\n",
    "plt.xlabel('Leading Digit')\n",
    "plt.show()"
   ]
  },
  {
   "cell_type": "markdown",
   "metadata": {},
   "source": []
  },
  {
   "cell_type": "code",
   "execution_count": 6,
   "metadata": {},
   "outputs": [
    {
     "name": "stdout",
     "output_type": "stream",
     "text": [
      "Digit\tCount\t%\n",
      "1\t12\t24.0\n",
      "2\t6\t12.0\n",
      "3\t7\t14.0\n",
      "4\t4\t8.0\n",
      "5\t8\t16.0\n",
      "6\t2\t4.0\n",
      "7\t2\t4.0\n",
      "8\t1\t2.0\n",
      "9\t0\t0.0\n"
     ]
    },
    {
     "data": {
      "image/png": "[encoded data removed]",
      "text/plain": [
       "<matplotlib.figure.Figure at 0xb15f390>"
      ]
     },
     "metadata": {},
     "output_type": "display_data"
    }
   ],
   "source": [
    "#1 Create an empty dictionary\n",
    "pop_freq = {}\n",
    "\n",
    "# Initialize the dictionary\n",
    "pop_freq['1'] = 0\n",
    "pop_freq['2'] = 0\n",
    "pop_freq['3'] = 0\n",
    "pop_freq['4'] = 0\n",
    "pop_freq['5'] = 0\n",
    "pop_freq['6'] = 0\n",
    "pop_freq['7'] = 0\n",
    "pop_freq['8'] = 0\n",
    "pop_freq['9'] = 0\n",
    "\n",
    "#2 Open file for reading\n",
    "infile = open(\"missouri.txt\", 'r')\n",
    "\n",
    "# Read header\n",
    "header = infile.readline()\n",
    "\n",
    "# Start counter to decide how many there are total\n",
    "counter = 0\n",
    "\n",
    "# Read subsequent lines\n",
    "for line in infile:\n",
    "    # Increment counter\n",
    "    counter += 1\n",
    "    line = line.strip()\n",
    "    pop_data = line.split()\n",
    "    pop_num = pop_data[-1]\n",
    "    # Add to each respective number's frequency\n",
    "    if pop_num[0] == '1':\n",
    "        pop_freq['1'] += 1\n",
    "    elif pop_num[0] == '2':\n",
    "        pop_freq['2'] += 1\n",
    "    elif pop_num[0] == '3':\n",
    "        pop_freq['3'] += 1\n",
    "    elif pop_num[0] == '4':\n",
    "        pop_freq['4'] += 1\n",
    "    elif pop_num[0] == '5':\n",
    "        pop_freq['5'] += 1\n",
    "    elif pop_num[0] == '6':\n",
    "        pop_freq['6'] += 1\n",
    "    elif pop_num[0] == '7':\n",
    "        pop_freq['7'] += 1\n",
    "    elif pop_num[0] == '8':\n",
    "        pop_freq['8'] += 1\n",
    "    elif pop_num[0] == '9':\n",
    "        pop_freq['9'] += 1\n",
    "# Print header\n",
    "print (\"Digit\\tCount\\t%\")\n",
    "census = []\n",
    "for i in range(1,10):\n",
    "    print (\"%d\\t%d\\t%.1f\" % (i, pop_freq[str(i)], 100*(pop_freq[str(i)])/counter))\n",
    "    census.append(100*(pop_freq[str(i)])/counter)\n",
    "    \n",
    "\n",
    "infile.close()\n",
    "\n",
    "%matplotlib inline\n",
    "\n",
    "import matplotlib\n",
    "import numpy as np\n",
    "import matplotlib.pyplot as plt\n",
    "\n",
    "plt.bar([1,2,3,4,5,6,7,8,9], census) # in groups of 3, they are strings of x info, y info, plot type (ex 'bs' means blue square)\n",
    "plt.axis([1, 9, 0, 100]) # [ x labels 1st, last, y labels 1st, last ]\n",
    "plt.ylabel('Occurance')\n",
    "plt.xlabel('Leading Digit')\n",
    "plt.show()"
   ]
  },
  {
   "cell_type": "code",
   "execution_count": null,
   "metadata": {},
   "outputs": [],
   "source": []
  }
 ],
 "metadata": {
  "kernelspec": {
   "display_name": "Python 2",
   "language": "python",
   "name": "python2"
  },
  "language_info": {
   "codemirror_mode": {
    "name": "ipython",
    "version": 2
   },
   "file_extension": ".py",
   "mimetype": "text/x-python",
   "name": "python",
   "nbconvert_exporter": "python",
   "pygments_lexer": "ipython2",
   "version": "2.7.14"
  }
 },
 "nbformat": 4,
 "nbformat_minor": 2
}
